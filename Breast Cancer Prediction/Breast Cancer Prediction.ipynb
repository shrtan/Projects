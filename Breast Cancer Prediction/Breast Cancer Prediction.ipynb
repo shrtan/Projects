{
 "cells": [
  {
   "cell_type": "markdown",
   "metadata": {},
   "source": [
    "# BREAST CANCER PREDICTION"
   ]
  },
  {
   "cell_type": "markdown",
   "metadata": {},
   "source": [
    "Data: https://archive.ics.uci.edu/ml/datasets/breast+cancer+wisconsin+(diagnostic)"
   ]
  },
  {
   "cell_type": "code",
   "execution_count": 61,
   "metadata": {},
   "outputs": [
    {
     "name": "stderr",
     "output_type": "stream",
     "text": [
      "Installing package into 'C:/Users/Shreya/R/win-library/3.6'\n",
      "(as 'lib' is unspecified)\n",
      "Warning message:\n",
      "\"package 'randomFores' is not available (for R version 3.6.1)\""
     ]
    }
   ],
   "source": [
    "options(digits = 3)\n",
    "#install.packages(\"randomForest\")\n",
    "#install.packages('randomFores',repos='http://cran.us.r-project.org')\n",
    "library(matrixStats)\n",
    "library(tidyverse)\n",
    "library(caret)\n",
    "library(dslabs)\n",
    "data(brca)"
   ]
  },
  {
   "cell_type": "markdown",
   "metadata": {},
   "source": [
    "## Exploring the Data"
   ]
  },
  {
   "cell_type": "code",
   "execution_count": 21,
   "metadata": {},
   "outputs": [
    {
     "data": {
      "text/html": [
       "<table>\n",
       "<thead><tr><th scope=col>radius_mean</th><th scope=col>texture_mean</th><th scope=col>perimeter_mean</th><th scope=col>area_mean</th><th scope=col>smoothness_mean</th><th scope=col>compactness_mean</th><th scope=col>concavity_mean</th><th scope=col>concave_pts_mean</th><th scope=col>symmetry_mean</th><th scope=col>fractal_dim_mean</th><th scope=col>...</th><th scope=col>radius_worst</th><th scope=col>texture_worst</th><th scope=col>perimeter_worst</th><th scope=col>area_worst</th><th scope=col>smoothness_worst</th><th scope=col>compactness_worst</th><th scope=col>concavity_worst</th><th scope=col>concave_pts_worst</th><th scope=col>symmetry_worst</th><th scope=col>fractal_dim_worst</th></tr></thead>\n",
       "<tbody>\n",
       "\t<tr><td>13.5   </td><td>14.4   </td><td>87.5   </td><td>566    </td><td>0.0978 </td><td>0.0813 </td><td>0.0666 </td><td>0.04781</td><td>0.188  </td><td>0.0577 </td><td>...    </td><td>15.11  </td><td>19.3   </td><td>99.7   </td><td>711    </td><td>0.144  </td><td>0.1773 </td><td>0.2390 </td><td>0.1288 </td><td>0.298  </td><td>0.0726 </td></tr>\n",
       "\t<tr><td>13.1   </td><td>15.7   </td><td>85.6   </td><td>520    </td><td>0.1075 </td><td>0.1270 </td><td>0.0457 </td><td>0.03110</td><td>0.197  </td><td>0.0681 </td><td>...    </td><td>14.50  </td><td>20.5   </td><td>96.1   </td><td>630    </td><td>0.131  </td><td>0.2776 </td><td>0.1890 </td><td>0.0728 </td><td>0.318  </td><td>0.0818 </td></tr>\n",
       "\t<tr><td> 9.5   </td><td>12.4   </td><td>60.3   </td><td>274    </td><td>0.1024 </td><td>0.0649 </td><td>0.0296 </td><td>0.02076</td><td>0.181  </td><td>0.0690 </td><td>...    </td><td>10.23  </td><td>15.7   </td><td>65.1   </td><td>315    </td><td>0.132  </td><td>0.1148 </td><td>0.0887 </td><td>0.0623 </td><td>0.245  </td><td>0.0777 </td></tr>\n",
       "\t<tr><td>13.0   </td><td>18.4   </td><td>82.6   </td><td>524    </td><td>0.0898 </td><td>0.0377 </td><td>0.0256 </td><td>0.02923</td><td>0.147  </td><td>0.0586 </td><td>...    </td><td>13.30  </td><td>22.8   </td><td>84.5   </td><td>546    </td><td>0.097  </td><td>0.0462 </td><td>0.0483 </td><td>0.0501 </td><td>0.199  </td><td>0.0617 </td></tr>\n",
       "\t<tr><td> 8.2   </td><td>16.8   </td><td>51.7   </td><td>202    </td><td>0.0860 </td><td>0.0594 </td><td>0.0159 </td><td>0.00592</td><td>0.177  </td><td>0.0650 </td><td>...    </td><td> 8.96  </td><td>22.0   </td><td>57.3   </td><td>242    </td><td>0.130  </td><td>0.1357 </td><td>0.0688 </td><td>0.0256 </td><td>0.310  </td><td>0.0741 </td></tr>\n",
       "\t<tr><td>12.1   </td><td>14.6   </td><td>78.0   </td><td>449    </td><td>0.1031 </td><td>0.0909 </td><td>0.0659 </td><td>0.02749</td><td>0.168  </td><td>0.0604 </td><td>...    </td><td>13.76  </td><td>20.7   </td><td>89.9   </td><td>583    </td><td>0.149  </td><td>0.2156 </td><td>0.3050 </td><td>0.0655 </td><td>0.275  </td><td>0.0830 </td></tr>\n",
       "</tbody>\n",
       "</table>\n"
      ],
      "text/latex": [
       "\\begin{tabular}{llllllllllllllllllllllllllllll}\n",
       " radius\\_mean & texture\\_mean & perimeter\\_mean & area\\_mean & smoothness\\_mean & compactness\\_mean & concavity\\_mean & concave\\_pts\\_mean & symmetry\\_mean & fractal\\_dim\\_mean & ... & radius\\_worst & texture\\_worst & perimeter\\_worst & area\\_worst & smoothness\\_worst & compactness\\_worst & concavity\\_worst & concave\\_pts\\_worst & symmetry\\_worst & fractal\\_dim\\_worst\\\\\n",
       "\\hline\n",
       "\t 13.5    & 14.4    & 87.5    & 566     & 0.0978  & 0.0813  & 0.0666  & 0.04781 & 0.188   & 0.0577  & ...     & 15.11   & 19.3    & 99.7    & 711     & 0.144   & 0.1773  & 0.2390  & 0.1288  & 0.298   & 0.0726 \\\\\n",
       "\t 13.1    & 15.7    & 85.6    & 520     & 0.1075  & 0.1270  & 0.0457  & 0.03110 & 0.197   & 0.0681  & ...     & 14.50   & 20.5    & 96.1    & 630     & 0.131   & 0.2776  & 0.1890  & 0.0728  & 0.318   & 0.0818 \\\\\n",
       "\t  9.5    & 12.4    & 60.3    & 274     & 0.1024  & 0.0649  & 0.0296  & 0.02076 & 0.181   & 0.0690  & ...     & 10.23   & 15.7    & 65.1    & 315     & 0.132   & 0.1148  & 0.0887  & 0.0623  & 0.245   & 0.0777 \\\\\n",
       "\t 13.0    & 18.4    & 82.6    & 524     & 0.0898  & 0.0377  & 0.0256  & 0.02923 & 0.147   & 0.0586  & ...     & 13.30   & 22.8    & 84.5    & 546     & 0.097   & 0.0462  & 0.0483  & 0.0501  & 0.199   & 0.0617 \\\\\n",
       "\t  8.2    & 16.8    & 51.7    & 202     & 0.0860  & 0.0594  & 0.0159  & 0.00592 & 0.177   & 0.0650  & ...     &  8.96   & 22.0    & 57.3    & 242     & 0.130   & 0.1357  & 0.0688  & 0.0256  & 0.310   & 0.0741 \\\\\n",
       "\t 12.1    & 14.6    & 78.0    & 449     & 0.1031  & 0.0909  & 0.0659  & 0.02749 & 0.168   & 0.0604  & ...     & 13.76   & 20.7    & 89.9    & 583     & 0.149   & 0.2156  & 0.3050  & 0.0655  & 0.275   & 0.0830 \\\\\n",
       "\\end{tabular}\n"
      ],
      "text/markdown": [
       "\n",
       "| radius_mean | texture_mean | perimeter_mean | area_mean | smoothness_mean | compactness_mean | concavity_mean | concave_pts_mean | symmetry_mean | fractal_dim_mean | ... | radius_worst | texture_worst | perimeter_worst | area_worst | smoothness_worst | compactness_worst | concavity_worst | concave_pts_worst | symmetry_worst | fractal_dim_worst |\n",
       "|---|---|---|---|---|---|---|---|---|---|---|---|---|---|---|---|---|---|---|---|---|\n",
       "| 13.5    | 14.4    | 87.5    | 566     | 0.0978  | 0.0813  | 0.0666  | 0.04781 | 0.188   | 0.0577  | ...     | 15.11   | 19.3    | 99.7    | 711     | 0.144   | 0.1773  | 0.2390  | 0.1288  | 0.298   | 0.0726  |\n",
       "| 13.1    | 15.7    | 85.6    | 520     | 0.1075  | 0.1270  | 0.0457  | 0.03110 | 0.197   | 0.0681  | ...     | 14.50   | 20.5    | 96.1    | 630     | 0.131   | 0.2776  | 0.1890  | 0.0728  | 0.318   | 0.0818  |\n",
       "|  9.5    | 12.4    | 60.3    | 274     | 0.1024  | 0.0649  | 0.0296  | 0.02076 | 0.181   | 0.0690  | ...     | 10.23   | 15.7    | 65.1    | 315     | 0.132   | 0.1148  | 0.0887  | 0.0623  | 0.245   | 0.0777  |\n",
       "| 13.0    | 18.4    | 82.6    | 524     | 0.0898  | 0.0377  | 0.0256  | 0.02923 | 0.147   | 0.0586  | ...     | 13.30   | 22.8    | 84.5    | 546     | 0.097   | 0.0462  | 0.0483  | 0.0501  | 0.199   | 0.0617  |\n",
       "|  8.2    | 16.8    | 51.7    | 202     | 0.0860  | 0.0594  | 0.0159  | 0.00592 | 0.177   | 0.0650  | ...     |  8.96   | 22.0    | 57.3    | 242     | 0.130   | 0.1357  | 0.0688  | 0.0256  | 0.310   | 0.0741  |\n",
       "| 12.1    | 14.6    | 78.0    | 449     | 0.1031  | 0.0909  | 0.0659  | 0.02749 | 0.168   | 0.0604  | ...     | 13.76   | 20.7    | 89.9    | 583     | 0.149   | 0.2156  | 0.3050  | 0.0655  | 0.275   | 0.0830  |\n",
       "\n"
      ],
      "text/plain": [
       "     radius_mean texture_mean perimeter_mean area_mean smoothness_mean\n",
       "[1,] 13.5        14.4         87.5           566       0.0978         \n",
       "[2,] 13.1        15.7         85.6           520       0.1075         \n",
       "[3,]  9.5        12.4         60.3           274       0.1024         \n",
       "[4,] 13.0        18.4         82.6           524       0.0898         \n",
       "[5,]  8.2        16.8         51.7           202       0.0860         \n",
       "[6,] 12.1        14.6         78.0           449       0.1031         \n",
       "     compactness_mean concavity_mean concave_pts_mean symmetry_mean\n",
       "[1,] 0.0813           0.0666         0.04781          0.188        \n",
       "[2,] 0.1270           0.0457         0.03110          0.197        \n",
       "[3,] 0.0649           0.0296         0.02076          0.181        \n",
       "[4,] 0.0377           0.0256         0.02923          0.147        \n",
       "[5,] 0.0594           0.0159         0.00592          0.177        \n",
       "[6,] 0.0909           0.0659         0.02749          0.168        \n",
       "     fractal_dim_mean ... radius_worst texture_worst perimeter_worst area_worst\n",
       "[1,] 0.0577           ... 15.11        19.3          99.7            711       \n",
       "[2,] 0.0681           ... 14.50        20.5          96.1            630       \n",
       "[3,] 0.0690           ... 10.23        15.7          65.1            315       \n",
       "[4,] 0.0586           ... 13.30        22.8          84.5            546       \n",
       "[5,] 0.0650           ...  8.96        22.0          57.3            242       \n",
       "[6,] 0.0604           ... 13.76        20.7          89.9            583       \n",
       "     smoothness_worst compactness_worst concavity_worst concave_pts_worst\n",
       "[1,] 0.144            0.1773            0.2390          0.1288           \n",
       "[2,] 0.131            0.2776            0.1890          0.0728           \n",
       "[3,] 0.132            0.1148            0.0887          0.0623           \n",
       "[4,] 0.097            0.0462            0.0483          0.0501           \n",
       "[5,] 0.130            0.1357            0.0688          0.0256           \n",
       "[6,] 0.149            0.2156            0.3050          0.0655           \n",
       "     symmetry_worst fractal_dim_worst\n",
       "[1,] 0.298          0.0726           \n",
       "[2,] 0.318          0.0818           \n",
       "[3,] 0.245          0.0777           \n",
       "[4,] 0.199          0.0617           \n",
       "[5,] 0.310          0.0741           \n",
       "[6,] 0.275          0.0830           "
      ]
     },
     "metadata": {},
     "output_type": "display_data"
    },
    {
     "data": {
      "text/html": [
       "<ol class=list-inline>\n",
       "\t<li>569</li>\n",
       "\t<li>30</li>\n",
       "</ol>\n"
      ],
      "text/latex": [
       "\\begin{enumerate*}\n",
       "\\item 569\n",
       "\\item 30\n",
       "\\end{enumerate*}\n"
      ],
      "text/markdown": [
       "1. 569\n",
       "2. 30\n",
       "\n",
       "\n"
      ],
      "text/plain": [
       "[1] 569  30"
      ]
     },
     "metadata": {},
     "output_type": "display_data"
    },
    {
     "data": {
      "text/html": [
       "569"
      ],
      "text/latex": [
       "569"
      ],
      "text/markdown": [
       "569"
      ],
      "text/plain": [
       "[1] 569"
      ]
     },
     "metadata": {},
     "output_type": "display_data"
    },
    {
     "data": {
      "text/html": [
       "0.372583479789104"
      ],
      "text/latex": [
       "0.372583479789104"
      ],
      "text/markdown": [
       "0.372583479789104"
      ],
      "text/plain": [
       "[1] 0.373"
      ]
     },
     "metadata": {},
     "output_type": "display_data"
    },
    {
     "data": {
      "text/html": [
       "<strong>area_worst:</strong> 24"
      ],
      "text/latex": [
       "\\textbf{area\\textbackslash{}\\_worst:} 24"
      ],
      "text/markdown": [
       "**area_worst:** 24"
      ],
      "text/plain": [
       "area_worst \n",
       "        24 "
      ]
     },
     "metadata": {},
     "output_type": "display_data"
    },
    {
     "data": {
      "text/html": [
       "20"
      ],
      "text/latex": [
       "20"
      ],
      "text/markdown": [
       "20"
      ],
      "text/plain": [
       "[1] 20"
      ]
     },
     "metadata": {},
     "output_type": "display_data"
    }
   ],
   "source": [
    "head(brca$x)\n",
    "#dimensions\n",
    "dim(brca$x)\n",
    "length(brca$y)\n",
    "y <- brca$y\n",
    "#proportion of the samples that are malignant\n",
    "mean(brca$y == 'M')\n",
    "#column number with the highest mean\n",
    "which.max(colMeans(brca$x))\n",
    "#column number with the lowest std dev\n",
    "which.min(colSds(brca$x))"
   ]
  },
  {
   "cell_type": "markdown",
   "metadata": {},
   "source": [
    "### Scaling the Matrix"
   ]
  },
  {
   "cell_type": "code",
   "execution_count": null,
   "metadata": {},
   "outputs": [],
   "source": [
    "x_centered <- sweep(brca$x, 2, colMeans(brca$x))\n",
    "x_scaled <- sweep(x_centered, 2, colSds(brca$x), FUN = \"/\")\n",
    "#sd of first column\n",
    "head(apply(x_scaled, 2, sd))\n",
    "#median of first column\n",
    "apply(x_scaled, 2, median)"
   ]
  },
  {
   "cell_type": "code",
   "execution_count": 23,
   "metadata": {},
   "outputs": [
    {
     "data": {
      "text/html": [
       "4.4121306136466"
      ],
      "text/latex": [
       "4.4121306136466"
      ],
      "text/markdown": [
       "4.4121306136466"
      ],
      "text/plain": [
       "[1] 4.41"
      ]
     },
     "metadata": {},
     "output_type": "display_data"
    },
    {
     "data": {
      "text/html": [
       "7.12127335099761"
      ],
      "text/latex": [
       "7.12127335099761"
      ],
      "text/markdown": [
       "7.12127335099761"
      ],
      "text/plain": [
       "[1] 7.12"
      ]
     },
     "metadata": {},
     "output_type": "display_data"
    }
   ],
   "source": [
    "#Calculating the distance between all samples using the scaled matrix\n",
    "dists <- dist(x_scaled)\n",
    "dists <- as.matrix(dists)\n",
    "\n",
    "\n",
    "#average distance between the first sample, which is benign, and other benign samples\n",
    "dists_1 <- dists[1, (y == 'B')]\n",
    "mean(dists_1[2:length(dists_1)])\n",
    "\n",
    "#average distance between the first sample and malignant samples\n",
    "dists_2 <- dists[1, (y == 'M')]\n",
    "mean(dists_2)"
   ]
  },
  {
   "cell_type": "markdown",
   "metadata": {},
   "source": [
    "### Heatmap"
   ]
  },
  {
   "cell_type": "code",
   "execution_count": 24,
   "metadata": {},
   "outputs": [
    {
     "data": {
      "image/png": "[encoded data removed]",
      "text/plain": [
       "plot without title"
      ]
     },
     "metadata": {},
     "output_type": "display_data"
    }
   ],
   "source": [
    "#heatmap of the relationship between features using the scaled matrix\n",
    "d_features <- dist(t(x_scaled))\n",
    "heatmap(as.matrix(d_features), labRow = NA, labCol = NA)"
   ]
  },
  {
   "cell_type": "markdown",
   "metadata": {},
   "source": [
    "## Hierarchical Clustering \n",
    "Finding similar features"
   ]
  },
  {
   "cell_type": "code",
   "execution_count": 27,
   "metadata": {},
   "outputs": [
    {
     "data": {
      "text/html": [
       "<dl>\n",
       "\t<dt>$`1`</dt>\n",
       "\t\t<dd><ol class=list-inline>\n",
       "\t<li>'radius_mean'</li>\n",
       "\t<li>'perimeter_mean'</li>\n",
       "\t<li>'area_mean'</li>\n",
       "\t<li>'concavity_mean'</li>\n",
       "\t<li>'concave_pts_mean'</li>\n",
       "\t<li>'radius_se'</li>\n",
       "\t<li>'perimeter_se'</li>\n",
       "\t<li>'area_se'</li>\n",
       "\t<li>'radius_worst'</li>\n",
       "\t<li>'perimeter_worst'</li>\n",
       "\t<li>'area_worst'</li>\n",
       "\t<li>'concave_pts_worst'</li>\n",
       "</ol>\n",
       "</dd>\n",
       "\t<dt>$`2`</dt>\n",
       "\t\t<dd><ol class=list-inline>\n",
       "\t<li>'texture_mean'</li>\n",
       "\t<li>'texture_worst'</li>\n",
       "</ol>\n",
       "</dd>\n",
       "\t<dt>$`3`</dt>\n",
       "\t\t<dd><ol class=list-inline>\n",
       "\t<li>'smoothness_mean'</li>\n",
       "\t<li>'compactness_mean'</li>\n",
       "\t<li>'symmetry_mean'</li>\n",
       "\t<li>'fractal_dim_mean'</li>\n",
       "\t<li>'smoothness_worst'</li>\n",
       "\t<li>'compactness_worst'</li>\n",
       "\t<li>'concavity_worst'</li>\n",
       "\t<li>'symmetry_worst'</li>\n",
       "\t<li>'fractal_dim_worst'</li>\n",
       "</ol>\n",
       "</dd>\n",
       "\t<dt>$`4`</dt>\n",
       "\t\t<dd><ol class=list-inline>\n",
       "\t<li>'texture_se'</li>\n",
       "\t<li>'smoothness_se'</li>\n",
       "\t<li>'symmetry_se'</li>\n",
       "</ol>\n",
       "</dd>\n",
       "\t<dt>$`5`</dt>\n",
       "\t\t<dd><ol class=list-inline>\n",
       "\t<li>'compactness_se'</li>\n",
       "\t<li>'concavity_se'</li>\n",
       "\t<li>'concave_pts_se'</li>\n",
       "\t<li>'fractal_dim_se'</li>\n",
       "</ol>\n",
       "</dd>\n",
       "</dl>\n"
      ],
      "text/latex": [
       "\\begin{description}\n",
       "\\item[\\$`1`] \\begin{enumerate*}\n",
       "\\item 'radius\\_mean'\n",
       "\\item 'perimeter\\_mean'\n",
       "\\item 'area\\_mean'\n",
       "\\item 'concavity\\_mean'\n",
       "\\item 'concave\\_pts\\_mean'\n",
       "\\item 'radius\\_se'\n",
       "\\item 'perimeter\\_se'\n",
       "\\item 'area\\_se'\n",
       "\\item 'radius\\_worst'\n",
       "\\item 'perimeter\\_worst'\n",
       "\\item 'area\\_worst'\n",
       "\\item 'concave\\_pts\\_worst'\n",
       "\\end{enumerate*}\n",
       "\n",
       "\\item[\\$`2`] \\begin{enumerate*}\n",
       "\\item 'texture\\_mean'\n",
       "\\item 'texture\\_worst'\n",
       "\\end{enumerate*}\n",
       "\n",
       "\\item[\\$`3`] \\begin{enumerate*}\n",
       "\\item 'smoothness\\_mean'\n",
       "\\item 'compactness\\_mean'\n",
       "\\item 'symmetry\\_mean'\n",
       "\\item 'fractal\\_dim\\_mean'\n",
       "\\item 'smoothness\\_worst'\n",
       "\\item 'compactness\\_worst'\n",
       "\\item 'concavity\\_worst'\n",
       "\\item 'symmetry\\_worst'\n",
       "\\item 'fractal\\_dim\\_worst'\n",
       "\\end{enumerate*}\n",
       "\n",
       "\\item[\\$`4`] \\begin{enumerate*}\n",
       "\\item 'texture\\_se'\n",
       "\\item 'smoothness\\_se'\n",
       "\\item 'symmetry\\_se'\n",
       "\\end{enumerate*}\n",
       "\n",
       "\\item[\\$`5`] \\begin{enumerate*}\n",
       "\\item 'compactness\\_se'\n",
       "\\item 'concavity\\_se'\n",
       "\\item 'concave\\_pts\\_se'\n",
       "\\item 'fractal\\_dim\\_se'\n",
       "\\end{enumerate*}\n",
       "\n",
       "\\end{description}\n"
      ],
      "text/markdown": [
       "$`1`\n",
       ":   1. 'radius_mean'\n",
       "2. 'perimeter_mean'\n",
       "3. 'area_mean'\n",
       "4. 'concavity_mean'\n",
       "5. 'concave_pts_mean'\n",
       "6. 'radius_se'\n",
       "7. 'perimeter_se'\n",
       "8. 'area_se'\n",
       "9. 'radius_worst'\n",
       "10. 'perimeter_worst'\n",
       "11. 'area_worst'\n",
       "12. 'concave_pts_worst'\n",
       "\n",
       "\n",
       "\n",
       "$`2`\n",
       ":   1. 'texture_mean'\n",
       "2. 'texture_worst'\n",
       "\n",
       "\n",
       "\n",
       "$`3`\n",
       ":   1. 'smoothness_mean'\n",
       "2. 'compactness_mean'\n",
       "3. 'symmetry_mean'\n",
       "4. 'fractal_dim_mean'\n",
       "5. 'smoothness_worst'\n",
       "6. 'compactness_worst'\n",
       "7. 'concavity_worst'\n",
       "8. 'symmetry_worst'\n",
       "9. 'fractal_dim_worst'\n",
       "\n",
       "\n",
       "\n",
       "$`4`\n",
       ":   1. 'texture_se'\n",
       "2. 'smoothness_se'\n",
       "3. 'symmetry_se'\n",
       "\n",
       "\n",
       "\n",
       "$`5`\n",
       ":   1. 'compactness_se'\n",
       "2. 'concavity_se'\n",
       "3. 'concave_pts_se'\n",
       "4. 'fractal_dim_se'\n",
       "\n",
       "\n",
       "\n",
       "\n",
       "\n"
      ],
      "text/plain": [
       "$`1`\n",
       " [1] \"radius_mean\"       \"perimeter_mean\"    \"area_mean\"        \n",
       " [4] \"concavity_mean\"    \"concave_pts_mean\"  \"radius_se\"        \n",
       " [7] \"perimeter_se\"      \"area_se\"           \"radius_worst\"     \n",
       "[10] \"perimeter_worst\"   \"area_worst\"        \"concave_pts_worst\"\n",
       "\n",
       "$`2`\n",
       "[1] \"texture_mean\"  \"texture_worst\"\n",
       "\n",
       "$`3`\n",
       "[1] \"smoothness_mean\"   \"compactness_mean\"  \"symmetry_mean\"    \n",
       "[4] \"fractal_dim_mean\"  \"smoothness_worst\"  \"compactness_worst\"\n",
       "[7] \"concavity_worst\"   \"symmetry_worst\"    \"fractal_dim_worst\"\n",
       "\n",
       "$`4`\n",
       "[1] \"texture_se\"    \"smoothness_se\" \"symmetry_se\"  \n",
       "\n",
       "$`5`\n",
       "[1] \"compactness_se\" \"concavity_se\"   \"concave_pts_se\" \"fractal_dim_se\"\n"
      ]
     },
     "metadata": {},
     "output_type": "display_data"
    }
   ],
   "source": [
    "#hierarchical clustering on the 30 features and cut the tree into 5 groups\n",
    "hc <- hclust(d_features)\n",
    "y_hc <- cutree(hc, k=5)\n",
    "split(names(y_hc), y_hc)"
   ]
  },
  {
   "cell_type": "markdown",
   "metadata": {},
   "source": [
    "## Principal Component Analysis\n",
    "Perform a principal component analysis of the scaled matrix"
   ]
  },
  {
   "cell_type": "code",
   "execution_count": 28,
   "metadata": {},
   "outputs": [
    {
     "data": {
      "text/plain": [
       "Importance of components:\n",
       "                         PC1   PC2    PC3   PC4   PC5    PC6    PC7    PC8\n",
       "Standard deviation     3.644 2.386 1.6787 1.407 1.284 1.0988 0.8217 0.6904\n",
       "Proportion of Variance 0.443 0.190 0.0939 0.066 0.055 0.0403 0.0225 0.0159\n",
       "Cumulative Proportion  0.443 0.632 0.7264 0.792 0.847 0.8876 0.9101 0.9260\n",
       "                          PC9   PC10   PC11    PC12    PC13    PC14    PC15\n",
       "Standard deviation     0.6457 0.5922 0.5421 0.51104 0.49128 0.39624 0.30681\n",
       "Proportion of Variance 0.0139 0.0117 0.0098 0.00871 0.00805 0.00523 0.00314\n",
       "Cumulative Proportion  0.9399 0.9516 0.9614 0.97007 0.97812 0.98335 0.98649\n",
       "                          PC16    PC17    PC18    PC19    PC20  PC21    PC22\n",
       "Standard deviation     0.28260 0.24372 0.22939 0.22244 0.17652 0.173 0.16565\n",
       "Proportion of Variance 0.00266 0.00198 0.00175 0.00165 0.00104 0.001 0.00091\n",
       "Cumulative Proportion  0.98915 0.99113 0.99288 0.99453 0.99557 0.997 0.99749\n",
       "                          PC23   PC24    PC25    PC26    PC27    PC28    PC29\n",
       "Standard deviation     0.15602 0.1344 0.12442 0.09043 0.08307 0.03987 0.02736\n",
       "Proportion of Variance 0.00081 0.0006 0.00052 0.00027 0.00023 0.00005 0.00002\n",
       "Cumulative Proportion  0.99830 0.9989 0.99942 0.99969 0.99992 0.99997 1.00000\n",
       "                         PC30\n",
       "Standard deviation     0.0115\n",
       "Proportion of Variance 0.0000\n",
       "Cumulative Proportion  1.0000"
      ]
     },
     "metadata": {},
     "output_type": "display_data"
    }
   ],
   "source": [
    "pca <- prcomp(x_scaled)\n",
    "#proportion of variance explained by the first principal component\n",
    "summary(pca)"
   ]
  },
  {
   "cell_type": "markdown",
   "metadata": {},
   "source": [
    "- PC1 and PC2 explain 63% of the variability \n",
    "- Plotting the first two principal components with color representing tumor type "
   ]
  },
  {
   "cell_type": "code",
   "execution_count": 30,
   "metadata": {},
   "outputs": [
    {
     "data": {
      "image/png": "[encoded data removed]",
      "text/plain": [
       "plot without title"
      ]
     },
     "metadata": {},
     "output_type": "display_data"
    }
   ],
   "source": [
    "pcs <- data.frame(pca$x[,1:2], type = brca$y)\n",
    "ggplot(pcs) + geom_point(aes(PC1, PC2, col = type)) + theme_light()"
   ]
  },
  {
   "cell_type": "markdown",
   "metadata": {},
   "source": [
    "Boxplot of the first 10 PCs grouped by tumor type: "
   ]
  },
  {
   "cell_type": "code",
   "execution_count": 32,
   "metadata": {},
   "outputs": [
    {
     "data": {
      "image/png": "[encoded data removed]",
      "text/plain": [
       "plot without title"
      ]
     },
     "metadata": {},
     "output_type": "display_data"
    }
   ],
   "source": [
    "data.frame(type = brca$y, pca$x[,1:10]) %>%\n",
    "    gather(key = \"PC\", value = \"value\", -type) %>%\n",
    "    ggplot(aes(PC, value, fill = type)) +\n",
    "    geom_boxplot() +\n",
    "    theme_light()"
   ]
  },
  {
   "cell_type": "markdown",
   "metadata": {},
   "source": [
    "## Model Building"
   ]
  },
  {
   "cell_type": "code",
   "execution_count": 34,
   "metadata": {},
   "outputs": [
    {
     "data": {
      "text/html": [
       "0.627753303964758"
      ],
      "text/latex": [
       "0.627753303964758"
      ],
      "text/markdown": [
       "0.627753303964758"
      ],
      "text/plain": [
       "[1] 0.628"
      ]
     },
     "metadata": {},
     "output_type": "display_data"
    },
    {
     "data": {
      "text/html": [
       "0.626086956521739"
      ],
      "text/latex": [
       "0.626086956521739"
      ],
      "text/markdown": [
       "0.626086956521739"
      ],
      "text/plain": [
       "[1] 0.626"
      ]
     },
     "metadata": {},
     "output_type": "display_data"
    }
   ],
   "source": [
    "#create a data partition splitting brca_y and the scaled version of the brca_x matrix into a 20% test set and 80% train\n",
    "test_index <- createDataPartition(brca$y, times = 1, p = 0.2, list = FALSE)\n",
    "test_x <- x_scaled[test_index,]\n",
    "test_y <- brca$y[test_index]\n",
    "train_x <- x_scaled[-test_index,]\n",
    "train_y <- brca$y[-test_index]\n",
    "\n",
    "#proportion of the training set that is benign\n",
    "mean(train_y == 'B')\n",
    "#proportion of the test set that is benign\n",
    "mean(test_y == 'B')"
   ]
  },
  {
   "cell_type": "markdown",
   "metadata": {},
   "source": [
    "### K-Means Clustering Model"
   ]
  },
  {
   "cell_type": "code",
   "execution_count": 71,
   "metadata": {},
   "outputs": [],
   "source": [
    "suppressWarnings(set.seed(3, sample.kind = \"Rounding\"))\n",
    "\n",
    "#two arguments: a matrix of observations x and a k-means object k - and assigns each row of x to a cluster from k\n",
    "predict_kmeans <- function(x, k) {\n",
    "    centers <- k$centers    # extract cluster centers\n",
    "    # calculate distance to cluster centers\n",
    "    distances <- sapply(1:nrow(x), function(i){\n",
    "                        apply(centers, 1, function(y) dist(rbind(x[i,], y)))\n",
    "                 })\n",
    "  max.col(-t(distances))  # select cluster with min distance to center\n",
    "}"
   ]
  },
  {
   "cell_type": "code",
   "execution_count": 50,
   "metadata": {},
   "outputs": [
    {
     "data": {
      "text/html": [
       "0.895652173913044"
      ],
      "text/latex": [
       "0.895652173913044"
      ],
      "text/markdown": [
       "0.895652173913044"
      ],
      "text/plain": [
       "[1] 0.896"
      ]
     },
     "metadata": {},
     "output_type": "display_data"
    }
   ],
   "source": [
    "#perform k-means clustering on the training set with 2 centers and assign the output to k\n",
    "k <- kmeans(train_x, centers = 2)\n",
    "kmeans_preds <- ifelse(predict_kmeans(test_x, k) == 1, \"B\", \"M\")\n",
    "mean(kmeans_preds == test_y)"
   ]
  },
  {
   "cell_type": "code",
   "execution_count": 51,
   "metadata": {},
   "outputs": [
    {
     "data": {
      "text/plain": [
       "Confusion Matrix and Statistics\n",
       "\n",
       "          Reference\n",
       "Prediction  B  M\n",
       "         B 68  4\n",
       "         M  8 35\n",
       "                                        \n",
       "               Accuracy : 0.896         \n",
       "                 95% CI : (0.825, 0.945)\n",
       "    No Information Rate : 0.661         \n",
       "    P-Value [Acc > NIR] : 5.42e-09      \n",
       "                                        \n",
       "                  Kappa : 0.773         \n",
       "                                        \n",
       " Mcnemar's Test P-Value : 0.386         \n",
       "                                        \n",
       "            Sensitivity : 0.895         \n",
       "            Specificity : 0.897         \n",
       "         Pos Pred Value : 0.944         \n",
       "         Neg Pred Value : 0.814         \n",
       "             Prevalence : 0.661         \n",
       "         Detection Rate : 0.591         \n",
       "   Detection Prevalence : 0.626         \n",
       "      Balanced Accuracy : 0.896         \n",
       "                                        \n",
       "       'Positive' Class : B             \n",
       "                                        "
      ]
     },
     "metadata": {},
     "output_type": "display_data"
    }
   ],
   "source": [
    "#proportion of benign and malignant tumors that are correctly identified\n",
    "confusionMatrix(as.factor(test_y), as.factor(kmeans_preds))"
   ]
  },
  {
   "cell_type": "markdown",
   "metadata": {},
   "source": [
    "### Logistic Regression Model"
   ]
  },
  {
   "cell_type": "code",
   "execution_count": 72,
   "metadata": {},
   "outputs": [
    {
     "data": {
      "text/html": [
       "0.965217391304348"
      ],
      "text/latex": [
       "0.965217391304348"
      ],
      "text/markdown": [
       "0.965217391304348"
      ],
      "text/plain": [
       "[1] 0.965"
      ]
     },
     "metadata": {},
     "output_type": "display_data"
    }
   ],
   "source": [
    "logistic_model <- suppressWarnings(train(x = train_x, y = train_y, method = \"glm\"))\n",
    "logistic_pred <- predict(logistic_model, test_x)\n",
    "mean(logistic_pred == test_y)"
   ]
  },
  {
   "cell_type": "markdown",
   "metadata": {},
   "source": [
    "### LDA and QDA Models"
   ]
  },
  {
   "cell_type": "code",
   "execution_count": 53,
   "metadata": {},
   "outputs": [
    {
     "data": {
      "text/html": [
       "0.973913043478261"
      ],
      "text/latex": [
       "0.973913043478261"
      ],
      "text/markdown": [
       "0.973913043478261"
      ],
      "text/plain": [
       "[1] 0.974"
      ]
     },
     "metadata": {},
     "output_type": "display_data"
    },
    {
     "data": {
      "text/html": [
       "0.965217391304348"
      ],
      "text/latex": [
       "0.965217391304348"
      ],
      "text/markdown": [
       "0.965217391304348"
      ],
      "text/plain": [
       "[1] 0.965"
      ]
     },
     "metadata": {},
     "output_type": "display_data"
    }
   ],
   "source": [
    "#lda\n",
    "lda_model <- train(x = train_x, y = train_y, method = \"lda\")\n",
    "lda_pred <- predict(lda_model, test_x)\n",
    "mean(lda_pred == test_y)\n",
    "\n",
    "#qda\n",
    "qda_model <- train(x = train_x, y = train_y, method = \"qda\")\n",
    "qda_pred <- predict(qda_model, test_x)\n",
    "mean(qda_pred == test_y)"
   ]
  },
  {
   "cell_type": "markdown",
   "metadata": {},
   "source": [
    "### Loess Model"
   ]
  },
  {
   "cell_type": "code",
   "execution_count": null,
   "metadata": {},
   "outputs": [],
   "source": [
    "suppressWarnings(set.seed(5, sample.kind = \"Rounding\"))\n",
    "loess_model <- suppressWarnings(train(x = train_x, y = train_y, method = \"gamLoess\"))\n",
    "loess_pred <- predict(loess_model, test_x)\n",
    "mean(loess_pred == test_y)"
   ]
  },
  {
   "cell_type": "markdown",
   "metadata": {},
   "source": [
    "### K-nearest Neighbors Model"
   ]
  },
  {
   "cell_type": "code",
   "execution_count": null,
   "metadata": {},
   "outputs": [],
   "source": [
    "suppressWarnings(set.seed(7, sample.kind = \"Rounding\"))\n",
    "tuning <- data.frame(k = seq(3, 21, 2))\n",
    "train_knn <- train(train_x, train_y,\n",
    "      method = \"knn\", \n",
    "      tuneGrid = tuning)\n",
    "train_knn$bestTune\n",
    "knn_pred <- predict(train_knn, test_x)\n",
    "mean(knn_pred == test_y)"
   ]
  },
  {
   "cell_type": "markdown",
   "metadata": {},
   "source": [
    "### Random Forest Model"
   ]
  },
  {
   "cell_type": "code",
   "execution_count": null,
   "metadata": {},
   "outputs": [],
   "source": [
    "## set.seed(9, sample.kind = \"Rounding\")\n",
    "## rf_model <- train(x = train_x, y = train_y, method = \"rf\", tuneGrid = data.frame(mtry = c(3, 5, 7, 9)), importance = TRUE)\n",
    "## rf_pred <- predict(rf_model, test_x)\n",
    "## mean(rf_pred == test_y)\n",
    "#most important variable in the random forest model\n",
    "## varImp(rf_model)"
   ]
  },
  {
   "cell_type": "markdown",
   "metadata": {},
   "source": [
    "### Ensemble Model"
   ]
  },
  {
   "cell_type": "code",
   "execution_count": 69,
   "metadata": {},
   "outputs": [
    {
     "data": {
      "text/html": [
       "0.973913043478261"
      ],
      "text/latex": [
       "0.973913043478261"
      ],
      "text/markdown": [
       "0.973913043478261"
      ],
      "text/plain": [
       "[1] 0.974"
      ]
     },
     "metadata": {},
     "output_type": "display_data"
    },
    {
     "data": {
      "text/html": [
       "0.973913043478261"
      ],
      "text/latex": [
       "0.973913043478261"
      ],
      "text/markdown": [
       "0.973913043478261"
      ],
      "text/plain": [
       "[1] 0.974"
      ]
     },
     "metadata": {},
     "output_type": "display_data"
    },
    {
     "ename": "ERROR",
     "evalue": "Error in cbind(lda = lda_preds == \"B\", qda = qda_preds == \"B\", loess = loess_preds == : object 'lda_preds' not found\n",
     "output_type": "error",
     "traceback": [
      "Error in cbind(lda = lda_preds == \"B\", qda = qda_preds == \"B\", loess = loess_preds == : object 'lda_preds' not found\nTraceback:\n",
      "1. cbind(lda = lda_preds == \"B\", qda = qda_preds == \"B\", loess = loess_preds == \n .     \"B\", knn = knn_preds == \"B\", kmeans = kmeans_preds == \"B\")"
     ]
    }
   ],
   "source": [
    "predictions = data.frame(kmeans=kmeans_preds, logistic=logistic_pred, lda=lda_pred, qda=qda_pred, loess=loess_pred, knn=knn_pred)\n",
    "\n",
    "y_hat <- ifelse(rowMeans(predictions == 'B') > 0.5, 'B', 'M')\n",
    "mean(y_hat == test_y)\n",
    "final_pred <- apply(predictions, 1, function(row) {\n",
    "  prob = mean(row == 'B')\n",
    "  ifelse(prob > 0.5, 'B', 'M')\n",
    "})\n",
    "mean(final_pred == test_y)\n",
    "\n",
    "#alternate method\n",
    "# ensemble <- cbind(glm = glm_preds == \"B\", lda = lda_preds == \"B\", qda = qda_preds == \"B\", loess = loess_preds == \"B\", rf = rf_preds == \"B\", knn = knn_preds == \"B\", kmeans = kmeans_preds == \"B\")\n",
    "# \n",
    "# ensemble_preds <- ifelse(rowMeans(ensemble) > 0.5, \"B\", \"M\")\n",
    "# mean(ensemble_preds == test_y)"
   ]
  },
  {
   "cell_type": "code",
   "execution_count": 70,
   "metadata": {},
   "outputs": [
    {
     "data": {
      "text/html": [
       "<dl class=dl-horizontal>\n",
       "\t<dt>kmeans</dt>\n",
       "\t\t<dd>0.895652173913044</dd>\n",
       "\t<dt>logistic</dt>\n",
       "\t\t<dd>0.965217391304348</dd>\n",
       "\t<dt>lda</dt>\n",
       "\t\t<dd>0.973913043478261</dd>\n",
       "\t<dt>qda</dt>\n",
       "\t\t<dd>0.965217391304348</dd>\n",
       "\t<dt>loess</dt>\n",
       "\t\t<dd>0.965217391304348</dd>\n",
       "\t<dt>knn</dt>\n",
       "\t\t<dd>0.965217391304348</dd>\n",
       "\t<dt>final_pred</dt>\n",
       "\t\t<dd>0.973913043478261</dd>\n",
       "</dl>\n"
      ],
      "text/latex": [
       "\\begin{description*}\n",
       "\\item[kmeans] 0.895652173913044\n",
       "\\item[logistic] 0.965217391304348\n",
       "\\item[lda] 0.973913043478261\n",
       "\\item[qda] 0.965217391304348\n",
       "\\item[loess] 0.965217391304348\n",
       "\\item[knn] 0.965217391304348\n",
       "\\item[final\\textbackslash{}\\_pred] 0.973913043478261\n",
       "\\end{description*}\n"
      ],
      "text/markdown": [
       "kmeans\n",
       ":   0.895652173913044logistic\n",
       ":   0.965217391304348lda\n",
       ":   0.973913043478261qda\n",
       ":   0.965217391304348loess\n",
       ":   0.965217391304348knn\n",
       ":   0.965217391304348final_pred\n",
       ":   0.973913043478261\n",
       "\n"
      ],
      "text/plain": [
       "    kmeans   logistic        lda        qda      loess        knn final_pred \n",
       "     0.896      0.965      0.974      0.965      0.965      0.965      0.974 "
      ]
     },
     "metadata": {},
     "output_type": "display_data"
    }
   ],
   "source": [
    "#make a table of the accuracies of the 7 models and the accuracy of the ensemble model\n",
    "predictions <- cbind(predictions, final_pred)\n",
    "apply(predictions, 2, function(column) {\n",
    "  mean(column == test_y)\n",
    "})"
   ]
  }
 ],
 "metadata": {
  "kernelspec": {
   "display_name": "R",
   "language": "R",
   "name": "ir"
  },
  "language_info": {
   "codemirror_mode": "r",
   "file_extension": ".r",
   "mimetype": "text/x-r-source",
   "name": "R",
   "pygments_lexer": "r",
   "version": "3.6.1"
  }
 },
 "nbformat": 4,
 "nbformat_minor": 4
}
